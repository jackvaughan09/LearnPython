{
 "cells": [
  {
   "attachments": {},
   "cell_type": "markdown",
   "metadata": {},
   "source": [
    "# Object Oriented Programming\n",
    "\n",
    "Up until this point, we've primarily dealt with problems using what we call a *functional* approach. In other words, our problem solving strategy utilizes **functions** to get things done. These little Input/Output machines are fantastic for manipulating information, getting us from point A to points B, C, \n",
    "\n",
    "However, there's often more than one way to solve a given problem.\n",
    "\n",
    "Today we'll be talking about a powerful alternative approach for problem-solving known as *object-oriented programming* (OOP for short)."
   ]
  },
  {
   "attachments": {},
   "cell_type": "markdown",
   "metadata": {},
   "source": [
    "## What is Object-Oriented Programming (OOP)?\n",
    "\n",
    "Object-Oriented Programming (OOP) is a programming paradigm that uses the concept of \"objects\" to design applications and software. Each objects are instances of a class, which is akin to a blueprint. Classes may include attributes (often known as properties) and methods (actions that the object can perform)."
   ]
  },
  {
   "cell_type": "code",
   "execution_count": null,
   "metadata": {},
   "outputs": [],
   "source": [
    "class Dog:\n",
    "    pass"
   ]
  },
  {
   "attachments": {},
   "cell_type": "markdown",
   "metadata": {},
   "source": [
    "\n",
    "For example, consider a `Dog` class. This could have attributes like `name`, `breed`, `age`, and methods such as bark(), eat(), sleep(). Each instance of Dog, say my_dog = Dog('Fido', 'Labrador', 4), will have its own name, breed, and age."
   ]
  },
  {
   "cell_type": "code",
   "execution_count": null,
   "metadata": {},
   "outputs": [],
   "source": []
  },
  {
   "cell_type": "code",
   "execution_count": null,
   "metadata": {},
   "outputs": [],
   "source": []
  },
  {
   "cell_type": "code",
   "execution_count": null,
   "metadata": {},
   "outputs": [],
   "source": []
  },
  {
   "attachments": {},
   "cell_type": "markdown",
   "metadata": {},
   "source": [
    "---"
   ]
  },
  {
   "attachments": {},
   "cell_type": "markdown",
   "metadata": {},
   "source": [
    "### How OOP Differs from Functional Programming\n",
    "Functional programming and OOP are fundamentally different in how they handle data and the behavior that manipulates this data.\n",
    "\n",
    "Functional programming emphasizes **immutability**, **stateless functions**, and **function composition**. Functions take inputs and return outputs but do not typically alter the input data itself. There is a clear, predictable <u>flow of data</u> through the program."
   ]
  },
  {
   "cell_type": "code",
   "execution_count": null,
   "metadata": {},
   "outputs": [],
   "source": [
    "\"\"\"Recall our my_sum(), my_len() and average() functions\"\"\"\n",
    "\n",
    "def my_sum(lst):\n",
    "    if isinstance(lst,list):\n",
    "        summer = 0\n",
    "        for item in lst:\n",
    "            summer+=item\n",
    "        return summer\n",
    "\n",
    "def my_len(lst):\n",
    "    if isinstance(lst,list):\n",
    "        count = 0\n",
    "        for _ in lst:\n",
    "            count += 1\n",
    "        return count"
   ]
  },
  {
   "attachments": {},
   "cell_type": "markdown",
   "metadata": {},
   "source": [
    "Note that once these functions are defined, they won't be changing anymore. We call this property of functions **immutability**. In this way, once you write the function (maybe debug it a few times), you expect it to *always* give you the same output for the same input.\n",
    "\n",
    "ie. `my_sum([1,2,3])` will always return `6` and nothing random or unexpected. Same input, same output.\n",
    "\n",
    "After defining a few functions, we often *compose* them into a single function to execute the entirety of our program in a single `main()` command."
   ]
  },
  {
   "cell_type": "code",
   "execution_count": null,
   "metadata": {},
   "outputs": [],
   "source": [
    "# Compose the my_len() and my_sum() functions from earlier to create the average() function\n",
    "# def average(...):"
   ]
  },
  {
   "attachments": {},
   "cell_type": "markdown",
   "metadata": {},
   "source": [
    "Functions also have no memory. Remember that each time a function is called, everything in its local scope is created and, crucially, **destroyed** by the time all lines have been executed. \n",
    "\n",
    "Such behavior is desireable because we don't want our functions to accumulate the memory of each calling instance, that would make them unusable! We call this the *statelessness* of functions. "
   ]
  },
  {
   "attachments": {},
   "cell_type": "markdown",
   "metadata": {},
   "source": [
    "---"
   ]
  },
  {
   "attachments": {},
   "cell_type": "markdown",
   "metadata": {},
   "source": [
    "## So why use OOP?\n",
    "\n",
    "In contrast, OOP organizes data and behavior together into objects. Each object maintains its own internal state represented by its `.attributes`. Objects expose behaviors via `.methods()`, and these methods may alter the object's state."
   ]
  },
  {
   "attachments": {},
   "cell_type": "markdown",
   "metadata": {},
   "source": [
    "### Benefits of OOP\n",
    "\n",
    "**Encapsulation**: In OOP, the data (attributes) of a class is hidden from other classes, and can only be accessed through the methods of their current class. This helps maintain the integrity of the data."
   ]
  },
  {
   "cell_type": "code",
   "execution_count": null,
   "metadata": {},
   "outputs": [],
   "source": [
    "class Account:\n",
    "    pass"
   ]
  },
  {
   "attachments": {},
   "cell_type": "markdown",
   "metadata": {},
   "source": [
    "**Inheritance**:\n",
    " One class can inherit the properties and methods of another, promoting reusability and a logical structure.\n"
   ]
  },
  {
   "cell_type": "code",
   "execution_count": null,
   "metadata": {},
   "outputs": [],
   "source": [
    "class Animal:\n",
    "    pass"
   ]
  },
  {
   "attachments": {},
   "cell_type": "markdown",
   "metadata": {},
   "source": [
    "\n",
    "**Polymorphism**:\n",
    " Polymorphism allows a single interface to represent different types. In Python, this can be accomplished through method overriding and overloading, allowing objects of different types to be manipulated as if they were the same type.\n"
   ]
  },
  {
   "cell_type": "code",
   "execution_count": null,
   "metadata": {},
   "outputs": [],
   "source": [
    "class Rectangle:\n",
    "    pass"
   ]
  },
  {
   "attachments": {},
   "cell_type": "markdown",
   "metadata": {},
   "source": [
    "---"
   ]
  },
  {
   "attachments": {},
   "cell_type": "markdown",
   "metadata": {},
   "source": [
    "### A Brief dive into how `sum()` and `len()` built-ins ACTUALLY work:"
   ]
  },
  {
   "attachments": {},
   "cell_type": "markdown",
   "metadata": {},
   "source": [
    "#### `len()`\n",
    "The built-in len() function returns the number of items in an object. Depending on the type of object passed to len(), the method of counting items can be different:\n",
    "\n",
    "For a list or tuple, it returns the number of elements.\n",
    "For a string, it returns the number of characters.\n",
    "For a dictionary, it returns the number of key-value pairs.\n",
    "For a set, it returns the number of unique elements.\n",
    "python\n"
   ]
  },
  {
   "cell_type": "code",
   "execution_count": null,
   "metadata": {},
   "outputs": [],
   "source": [
    "print(len([1, 2, 3, 4]))  # list: Prints 4\n",
    "print(len(\"Hello\"))  # string: Prints 5\n",
    "print(len({\"apple\": \"fruit\", \"broccoli\": \"vegetable\"}))  # dictionary: Prints 2\n",
    "print(len({1, 2, 3, 3, 4}))  # set: Prints 4"
   ]
  },
  {
   "attachments": {},
   "cell_type": "markdown",
   "metadata": {},
   "source": [
    "#### `sum()`\n",
    "The sum() function returns the sum of all items in an iterable. The way sum() operates depends on the type of items in the iterable:\n",
    "\n",
    "For a list or tuple of numbers, it adds them up.\n",
    "For a list of strings, Python throws a TypeError, as sum() isn't designed to work with strings.\n"
   ]
  },
  {
   "cell_type": "code",
   "execution_count": null,
   "metadata": {},
   "outputs": [],
   "source": [
    "print(sum([1, 2, 3, 4]))  # list of numbers: Prints 10\n",
    "print(sum((1, 2, 3, 4)))  # tuple of numbers: Prints 10"
   ]
  },
  {
   "attachments": {},
   "cell_type": "markdown",
   "metadata": {},
   "source": [
    "#### So, what's going on here?\n",
    "\n",
    "`sum()` and `len()` are not themselves actually performing any sort of calculation. Rather, when they are called like so: `sum([1,2,3])`, python executes the following steps:\n",
    "\n",
    "1. Identify the class of the input object (argument)\n",
    "   - `>>> type([1,2,3])`\n",
    "   - `>>> list`\n",
    "1. Lookup the `.__sum__()` *dunder* method for the class `list`\n",
    "   - Field Trip!\n",
    "1. Execute the code for the particular class's sum function and return output"
   ]
  },
  {
   "cell_type": "code",
   "execution_count": null,
   "metadata": {},
   "outputs": [],
   "source": [
    "# Field Trip:\n",
    "list\n",
    "set\n",
    "str"
   ]
  },
  {
   "attachments": {},
   "cell_type": "markdown",
   "metadata": {},
   "source": [
    "___"
   ]
  },
  {
   "attachments": {},
   "cell_type": "markdown",
   "metadata": {},
   "source": [
    "\n",
    "### Shortcomings of OOP\n",
    "\n",
    "**Complexity**: OOP can be more complex to understand and implement than procedural or functional programming, especially for beginners.\n",
    "\n",
    "**Field trip 2: Looking at PyTorch code**"
   ]
  },
  {
   "cell_type": "code",
   "execution_count": null,
   "metadata": {},
   "outputs": [],
   "source": [
    "# import torch"
   ]
  },
  {
   "attachments": {},
   "cell_type": "markdown",
   "metadata": {},
   "source": [
    "**Inefficiency**: Due to the layer of abstraction, OOP can sometimes lead to slower-running programs."
   ]
  },
  {
   "attachments": {},
   "cell_type": "markdown",
   "metadata": {},
   "source": [
    "\n",
    "**Tight Coupling**: In some cases, objects can become tightly coupled, where a change in one class might necessitate changes in several related classes, leading to code fragility and reduced maintainability.\n"
   ]
  },
  {
   "cell_type": "code",
   "execution_count": null,
   "metadata": {},
   "outputs": [],
   "source": [
    "class Engine:\n",
    "    def start(self):\n",
    "        return 'Engine starting...'\n",
    "\n",
    "class Car:\n",
    "    def __init__(self):\n",
    "        self.engine = Engine()\n",
    "\n",
    "    def start(self):\n",
    "        return self.engine.start()\n",
    "\n",
    "my_car = Car()\n",
    "print(my_car.start())  # Prints 'Engine starting...'"
   ]
  },
  {
   "attachments": {},
   "cell_type": "markdown",
   "metadata": {},
   "source": [
    "In this code, the `Car` class is tightly coupled with the `Engine` class. Any change in the `Engine` class (like changing the `start` method name to `ignite`) would require a corresponding change in the `Car` class, hence leading to a **tight coupling** issue."
   ]
  },
  {
   "attachments": {},
   "cell_type": "markdown",
   "metadata": {},
   "source": [
    "___"
   ]
  },
  {
   "attachments": {},
   "cell_type": "markdown",
   "metadata": {},
   "source": [
    "## Introductory Problems\n",
    "Let's start our OOP journey with some simple problems:\n",
    "\n",
    "Create a Dog class: This class should have attributes like name, breed, age and methods such as bark(), eat(), sleep(). Create a few instances of Dog and call their methods."
   ]
  },
  {
   "cell_type": "code",
   "execution_count": null,
   "metadata": {},
   "outputs": [],
   "source": []
  },
  {
   "attachments": {},
   "cell_type": "markdown",
   "metadata": {},
   "source": [
    "Expand the Dog class with Inheritance: Create a WorkingDog class that inherits from Dog. Add a new attribute, job, and a new method, work(). Instantiate a WorkingDog and call its methods."
   ]
  },
  {
   "cell_type": "code",
   "execution_count": null,
   "metadata": {},
   "outputs": [],
   "source": []
  },
  {
   "attachments": {},
   "cell_type": "markdown",
   "metadata": {},
   "source": [
    "Explore Polymorphism: Create a Cat class with similar attributes and methods as the Dog class but with some differences (for example, a purr() method instead of bark()). Write a function that takes an animal object and calls its methods, illustrating that the function can handle Dog and Cat objects interchangeably."
   ]
  },
  {
   "cell_type": "code",
   "execution_count": null,
   "metadata": {},
   "outputs": [],
   "source": []
  },
  {
   "attachments": {},
   "cell_type": "markdown",
   "metadata": {},
   "source": [
    "---"
   ]
  },
  {
   "attachments": {},
   "cell_type": "markdown",
   "metadata": {},
   "source": [
    "## Problem: Inventory Management System\n",
    "In a retail business, managing the inventory of goods is crucial. An efficient system can keep track of all the products and their quantities in stock.\n",
    "\n",
    "Let's build a simple inventory system using object-oriented programming. This problem will help you understand the concepts of classes, objects, attributes, methods, and encapsulation.\n",
    "\n",
    "#### Description\n",
    "You are to create an `Item` class, representing a product in a store. Each item has a `name`, `price`, and `quantity`. Then create an `Inventory` class that holds various items. The `Inventory` class should allow you to add an item, remove an item, and check the total value of items in the store. Here are the requirements:\n",
    "\n",
    "An `Item` should have the following attributes:\n",
    "\n",
    "- `name`: a string representing the item's name.\n",
    "- `price`: a float representing the item's price.\n",
    "- `quantity`: an integer representing the quantity of the item in stock.\n",
    "\n",
    "And the following method:\n",
    "\n",
    "- `value`: a method that returns the total value of that item in stock (price * quantity)."
   ]
  },
  {
   "cell_type": "code",
   "execution_count": null,
   "metadata": {},
   "outputs": [],
   "source": [
    "class Item:\n",
    "    pass"
   ]
  },
  {
   "attachments": {},
   "cell_type": "markdown",
   "metadata": {},
   "source": [
    "The `Inventory` class should have the following attribute:\n",
    "\n",
    "- `items`: a list storing the `Item` objects.\n",
    "\n",
    "And the following methods:\n",
    "\n",
    "- `add_item`: a method that takes an Item object and adds it to the inventory.\n",
    "- `remove_item`: a method that takes the name of an item and removes it from the inventory.\n",
    "- `total_value`: a method that returns the total value of all items in the inventory."
   ]
  },
  {
   "cell_type": "code",
   "execution_count": null,
   "metadata": {},
   "outputs": [],
   "source": [
    "class Inventory:\n",
    "    pass"
   ]
  },
  {
   "cell_type": "code",
   "execution_count": null,
   "metadata": {},
   "outputs": [],
   "source": [
    "# Demo:\n",
    "\n",
    "# Create items\n",
    "\n",
    "# Add items to inventory\n",
    "\n",
    "# Print total value\n"
   ]
  },
  {
   "attachments": {},
   "cell_type": "markdown",
   "metadata": {},
   "source": [
    "\n",
    "Remember, the journey of mastering OOP takes time and practice. Enjoy the process and have fun with these exercises!\n"
   ]
  }
 ],
 "metadata": {
  "kernelspec": {
   "display_name": "base",
   "language": "python",
   "name": "python3"
  },
  "language_info": {
   "codemirror_mode": {
    "name": "ipython",
    "version": 3
   },
   "file_extension": ".py",
   "mimetype": "text/x-python",
   "name": "python",
   "nbconvert_exporter": "python",
   "pygments_lexer": "ipython3",
   "version": "3.9.16"
  },
  "orig_nbformat": 4
 },
 "nbformat": 4,
 "nbformat_minor": 2
}
